{
 "cells": [
  {
   "cell_type": "code",
   "execution_count": 2,
   "id": "a722ff95",
   "metadata": {},
   "outputs": [
    {
     "data": {
      "text/html": [
       "<div>\n",
       "<style scoped>\n",
       "    .dataframe tbody tr th:only-of-type {\n",
       "        vertical-align: middle;\n",
       "    }\n",
       "\n",
       "    .dataframe tbody tr th {\n",
       "        vertical-align: top;\n",
       "    }\n",
       "\n",
       "    .dataframe thead th {\n",
       "        text-align: right;\n",
       "    }\n",
       "</style>\n",
       "<table border=\"1\" class=\"dataframe\">\n",
       "  <thead>\n",
       "    <tr style=\"text-align: right;\">\n",
       "      <th></th>\n",
       "      <th>STATION</th>\n",
       "      <th>NAME</th>\n",
       "      <th>PRCP</th>\n",
       "      <th>SNWD</th>\n",
       "      <th>TMAX</th>\n",
       "      <th>TMIN</th>\n",
       "    </tr>\n",
       "    <tr>\n",
       "      <th>DATE</th>\n",
       "      <th></th>\n",
       "      <th></th>\n",
       "      <th></th>\n",
       "      <th></th>\n",
       "      <th></th>\n",
       "      <th></th>\n",
       "    </tr>\n",
       "  </thead>\n",
       "  <tbody>\n",
       "    <tr>\n",
       "      <th>2000-01-01</th>\n",
       "      <td>GME00123970</td>\n",
       "      <td>HOLZKIRCHEN, GM</td>\n",
       "      <td>0.30</td>\n",
       "      <td>13.4</td>\n",
       "      <td>35</td>\n",
       "      <td>27</td>\n",
       "    </tr>\n",
       "    <tr>\n",
       "      <th>2000-01-02</th>\n",
       "      <td>GME00123970</td>\n",
       "      <td>HOLZKIRCHEN, GM</td>\n",
       "      <td>0.00</td>\n",
       "      <td>11.4</td>\n",
       "      <td>42</td>\n",
       "      <td>26</td>\n",
       "    </tr>\n",
       "    <tr>\n",
       "      <th>2000-01-03</th>\n",
       "      <td>GME00123970</td>\n",
       "      <td>HOLZKIRCHEN, GM</td>\n",
       "      <td>0.00</td>\n",
       "      <td>9.4</td>\n",
       "      <td>40</td>\n",
       "      <td>21</td>\n",
       "    </tr>\n",
       "    <tr>\n",
       "      <th>2000-01-04</th>\n",
       "      <td>GME00123970</td>\n",
       "      <td>HOLZKIRCHEN, GM</td>\n",
       "      <td>0.09</td>\n",
       "      <td>8.3</td>\n",
       "      <td>43</td>\n",
       "      <td>20</td>\n",
       "    </tr>\n",
       "    <tr>\n",
       "      <th>2000-01-05</th>\n",
       "      <td>GME00123970</td>\n",
       "      <td>HOLZKIRCHEN, GM</td>\n",
       "      <td>0.01</td>\n",
       "      <td>7.5</td>\n",
       "      <td>43</td>\n",
       "      <td>32</td>\n",
       "    </tr>\n",
       "    <tr>\n",
       "      <th>...</th>\n",
       "      <td>...</td>\n",
       "      <td>...</td>\n",
       "      <td>...</td>\n",
       "      <td>...</td>\n",
       "      <td>...</td>\n",
       "      <td>...</td>\n",
       "    </tr>\n",
       "    <tr>\n",
       "      <th>2021-12-27</th>\n",
       "      <td>GME00123970</td>\n",
       "      <td>HOLZKIRCHEN, GM</td>\n",
       "      <td>0.04</td>\n",
       "      <td>0.0</td>\n",
       "      <td>47</td>\n",
       "      <td>37</td>\n",
       "    </tr>\n",
       "    <tr>\n",
       "      <th>2021-12-28</th>\n",
       "      <td>GME00123970</td>\n",
       "      <td>HOLZKIRCHEN, GM</td>\n",
       "      <td>0.31</td>\n",
       "      <td>0.0</td>\n",
       "      <td>47</td>\n",
       "      <td>35</td>\n",
       "    </tr>\n",
       "    <tr>\n",
       "      <th>2021-12-29</th>\n",
       "      <td>GME00123970</td>\n",
       "      <td>HOLZKIRCHEN, GM</td>\n",
       "      <td>0.54</td>\n",
       "      <td>0.0</td>\n",
       "      <td>50</td>\n",
       "      <td>42</td>\n",
       "    </tr>\n",
       "    <tr>\n",
       "      <th>2021-12-30</th>\n",
       "      <td>GME00123970</td>\n",
       "      <td>HOLZKIRCHEN, GM</td>\n",
       "      <td>0.15</td>\n",
       "      <td>0.0</td>\n",
       "      <td>54</td>\n",
       "      <td>49</td>\n",
       "    </tr>\n",
       "    <tr>\n",
       "      <th>2021-12-31</th>\n",
       "      <td>GME00123970</td>\n",
       "      <td>HOLZKIRCHEN, GM</td>\n",
       "      <td>0.00</td>\n",
       "      <td>0.0</td>\n",
       "      <td>56</td>\n",
       "      <td>42</td>\n",
       "    </tr>\n",
       "  </tbody>\n",
       "</table>\n",
       "<p>8036 rows × 6 columns</p>\n",
       "</div>"
      ],
      "text/plain": [
       "                STATION             NAME  PRCP  SNWD  TMAX  TMIN\n",
       "DATE                                                            \n",
       "2000-01-01  GME00123970  HOLZKIRCHEN, GM  0.30  13.4    35    27\n",
       "2000-01-02  GME00123970  HOLZKIRCHEN, GM  0.00  11.4    42    26\n",
       "2000-01-03  GME00123970  HOLZKIRCHEN, GM  0.00   9.4    40    21\n",
       "2000-01-04  GME00123970  HOLZKIRCHEN, GM  0.09   8.3    43    20\n",
       "2000-01-05  GME00123970  HOLZKIRCHEN, GM  0.01   7.5    43    32\n",
       "...                 ...              ...   ...   ...   ...   ...\n",
       "2021-12-27  GME00123970  HOLZKIRCHEN, GM  0.04   0.0    47    37\n",
       "2021-12-28  GME00123970  HOLZKIRCHEN, GM  0.31   0.0    47    35\n",
       "2021-12-29  GME00123970  HOLZKIRCHEN, GM  0.54   0.0    50    42\n",
       "2021-12-30  GME00123970  HOLZKIRCHEN, GM  0.15   0.0    54    49\n",
       "2021-12-31  GME00123970  HOLZKIRCHEN, GM  0.00   0.0    56    42\n",
       "\n",
       "[8036 rows x 6 columns]"
      ]
     },
     "execution_count": 2,
     "metadata": {},
     "output_type": "execute_result"
    }
   ],
   "source": [
    "import pandas as pd\n",
    "weather = pd.read_csv(\"munich.csv\", index_col=\"DATE\")\n",
    "weather"
   ]
  },
  {
   "cell_type": "code",
   "execution_count": 3,
   "id": "dc86eff8",
   "metadata": {},
   "outputs": [
    {
     "data": {
      "text/html": [
       "<div>\n",
       "<style scoped>\n",
       "    .dataframe tbody tr th:only-of-type {\n",
       "        vertical-align: middle;\n",
       "    }\n",
       "\n",
       "    .dataframe tbody tr th {\n",
       "        vertical-align: top;\n",
       "    }\n",
       "\n",
       "    .dataframe thead th {\n",
       "        text-align: right;\n",
       "    }\n",
       "</style>\n",
       "<table border=\"1\" class=\"dataframe\">\n",
       "  <thead>\n",
       "    <tr style=\"text-align: right;\">\n",
       "      <th></th>\n",
       "      <th>PRCP</th>\n",
       "      <th>SNWD</th>\n",
       "      <th>TMAX</th>\n",
       "      <th>TMIN</th>\n",
       "    </tr>\n",
       "    <tr>\n",
       "      <th>DATE</th>\n",
       "      <th></th>\n",
       "      <th></th>\n",
       "      <th></th>\n",
       "      <th></th>\n",
       "    </tr>\n",
       "  </thead>\n",
       "  <tbody>\n",
       "    <tr>\n",
       "      <th>2000-01-01</th>\n",
       "      <td>0.30</td>\n",
       "      <td>13.4</td>\n",
       "      <td>1.7</td>\n",
       "      <td>-2.8</td>\n",
       "    </tr>\n",
       "    <tr>\n",
       "      <th>2000-01-02</th>\n",
       "      <td>0.00</td>\n",
       "      <td>11.4</td>\n",
       "      <td>5.6</td>\n",
       "      <td>-3.3</td>\n",
       "    </tr>\n",
       "    <tr>\n",
       "      <th>2000-01-03</th>\n",
       "      <td>0.00</td>\n",
       "      <td>9.4</td>\n",
       "      <td>4.4</td>\n",
       "      <td>-6.1</td>\n",
       "    </tr>\n",
       "    <tr>\n",
       "      <th>2000-01-04</th>\n",
       "      <td>0.09</td>\n",
       "      <td>8.3</td>\n",
       "      <td>6.1</td>\n",
       "      <td>-6.7</td>\n",
       "    </tr>\n",
       "    <tr>\n",
       "      <th>2000-01-05</th>\n",
       "      <td>0.01</td>\n",
       "      <td>7.5</td>\n",
       "      <td>6.1</td>\n",
       "      <td>0.0</td>\n",
       "    </tr>\n",
       "    <tr>\n",
       "      <th>...</th>\n",
       "      <td>...</td>\n",
       "      <td>...</td>\n",
       "      <td>...</td>\n",
       "      <td>...</td>\n",
       "    </tr>\n",
       "    <tr>\n",
       "      <th>2021-12-27</th>\n",
       "      <td>0.04</td>\n",
       "      <td>0.0</td>\n",
       "      <td>8.3</td>\n",
       "      <td>2.8</td>\n",
       "    </tr>\n",
       "    <tr>\n",
       "      <th>2021-12-28</th>\n",
       "      <td>0.31</td>\n",
       "      <td>0.0</td>\n",
       "      <td>8.3</td>\n",
       "      <td>1.7</td>\n",
       "    </tr>\n",
       "    <tr>\n",
       "      <th>2021-12-29</th>\n",
       "      <td>0.54</td>\n",
       "      <td>0.0</td>\n",
       "      <td>10.0</td>\n",
       "      <td>5.6</td>\n",
       "    </tr>\n",
       "    <tr>\n",
       "      <th>2021-12-30</th>\n",
       "      <td>0.15</td>\n",
       "      <td>0.0</td>\n",
       "      <td>12.2</td>\n",
       "      <td>9.4</td>\n",
       "    </tr>\n",
       "    <tr>\n",
       "      <th>2021-12-31</th>\n",
       "      <td>0.00</td>\n",
       "      <td>0.0</td>\n",
       "      <td>13.3</td>\n",
       "      <td>5.6</td>\n",
       "    </tr>\n",
       "  </tbody>\n",
       "</table>\n",
       "<p>8036 rows × 4 columns</p>\n",
       "</div>"
      ],
      "text/plain": [
       "            PRCP  SNWD  TMAX  TMIN\n",
       "DATE                              \n",
       "2000-01-01  0.30  13.4   1.7  -2.8\n",
       "2000-01-02  0.00  11.4   5.6  -3.3\n",
       "2000-01-03  0.00   9.4   4.4  -6.1\n",
       "2000-01-04  0.09   8.3   6.1  -6.7\n",
       "2000-01-05  0.01   7.5   6.1   0.0\n",
       "...          ...   ...   ...   ...\n",
       "2021-12-27  0.04   0.0   8.3   2.8\n",
       "2021-12-28  0.31   0.0   8.3   1.7\n",
       "2021-12-29  0.54   0.0  10.0   5.6\n",
       "2021-12-30  0.15   0.0  12.2   9.4\n",
       "2021-12-31  0.00   0.0  13.3   5.6\n",
       "\n",
       "[8036 rows x 4 columns]"
      ]
     },
     "execution_count": 3,
     "metadata": {},
     "output_type": "execute_result"
    }
   ],
   "source": [
    "core_weather = weather[[\"PRCP\", \"SNWD\", \"TMAX\", \"TMIN\"]].copy()\n",
    "# Farenheit To Celcius\n",
    "core_weather[\"TMAX\"] = core_weather[\"TMAX\"].apply(lambda x: (x - 32)*0.5556)\n",
    "core_weather[\"TMIN\"] = core_weather[\"TMIN\"].apply(lambda x: (x - 32)*0.5556)\n",
    "# Dataframe object to datetime\n",
    "core_weather.index = pd.to_datetime(core_weather.index)\n",
    "# Rounding values\n",
    "core_weather[\"TMIN\"] = core_weather[\"TMIN\"].round(decimals = 1)\n",
    "core_weather[\"TMAX\"] = core_weather[\"TMAX\"].round(decimals = 1)\n",
    "core_weather"
   ]
  },
  {
   "cell_type": "code",
   "execution_count": 4,
   "id": "4e7d27f2",
   "metadata": {},
   "outputs": [
    {
     "data": {
      "text/plain": [
       "<AxesSubplot:xlabel='DATE'>"
      ]
     },
     "execution_count": 4,
     "metadata": {},
     "output_type": "execute_result"
    },
    {
     "data": {
      "image/png": "[encoded data removed]",
      "text/plain": [
       "<Figure size 432x288 with 1 Axes>"
      ]
     },
     "metadata": {
      "needs_background": "light"
     },
     "output_type": "display_data"
    }
   ],
   "source": [
    "core_weather[[\"TMIN\", \"TMAX\"]].plot()"
   ]
  },
  {
   "cell_type": "code",
   "execution_count": 5,
   "id": "321546ab",
   "metadata": {},
   "outputs": [
    {
     "data": {
      "text/plain": [
       "<AxesSubplot:xlabel='DATE'>"
      ]
     },
     "execution_count": 5,
     "metadata": {},
     "output_type": "execute_result"
    },
    {
     "data": {
      "image/png": "[encoded data removed]",
      "text/plain": [
       "<Figure size 432x288 with 1 Axes>"
      ]
     },
     "metadata": {
      "needs_background": "light"
     },
     "output_type": "display_data"
    }
   ],
   "source": [
    "core_weather[[\"PRCP\"]].plot()"
   ]
  },
  {
   "cell_type": "code",
   "execution_count": 6,
   "id": "4b56221e",
   "metadata": {},
   "outputs": [],
   "source": [
    "# Building a target column for predictions\n",
    "core_weather[\"target\"] = core_weather.shift(-1)[\"TMAX\"]"
   ]
  },
  {
   "cell_type": "code",
   "execution_count": 7,
   "id": "04f49e1e",
   "metadata": {},
   "outputs": [
    {
     "data": {
      "text/html": [
       "<div>\n",
       "<style scoped>\n",
       "    .dataframe tbody tr th:only-of-type {\n",
       "        vertical-align: middle;\n",
       "    }\n",
       "\n",
       "    .dataframe tbody tr th {\n",
       "        vertical-align: top;\n",
       "    }\n",
       "\n",
       "    .dataframe thead th {\n",
       "        text-align: right;\n",
       "    }\n",
       "</style>\n",
       "<table border=\"1\" class=\"dataframe\">\n",
       "  <thead>\n",
       "    <tr style=\"text-align: right;\">\n",
       "      <th></th>\n",
       "      <th>PRCP</th>\n",
       "      <th>SNWD</th>\n",
       "      <th>TMAX</th>\n",
       "      <th>TMIN</th>\n",
       "      <th>target</th>\n",
       "    </tr>\n",
       "    <tr>\n",
       "      <th>DATE</th>\n",
       "      <th></th>\n",
       "      <th></th>\n",
       "      <th></th>\n",
       "      <th></th>\n",
       "      <th></th>\n",
       "    </tr>\n",
       "  </thead>\n",
       "  <tbody>\n",
       "    <tr>\n",
       "      <th>2000-01-01</th>\n",
       "      <td>0.30</td>\n",
       "      <td>13.4</td>\n",
       "      <td>1.7</td>\n",
       "      <td>-2.8</td>\n",
       "      <td>5.6</td>\n",
       "    </tr>\n",
       "    <tr>\n",
       "      <th>2000-01-02</th>\n",
       "      <td>0.00</td>\n",
       "      <td>11.4</td>\n",
       "      <td>5.6</td>\n",
       "      <td>-3.3</td>\n",
       "      <td>4.4</td>\n",
       "    </tr>\n",
       "    <tr>\n",
       "      <th>2000-01-03</th>\n",
       "      <td>0.00</td>\n",
       "      <td>9.4</td>\n",
       "      <td>4.4</td>\n",
       "      <td>-6.1</td>\n",
       "      <td>6.1</td>\n",
       "    </tr>\n",
       "    <tr>\n",
       "      <th>2000-01-04</th>\n",
       "      <td>0.09</td>\n",
       "      <td>8.3</td>\n",
       "      <td>6.1</td>\n",
       "      <td>-6.7</td>\n",
       "      <td>6.1</td>\n",
       "    </tr>\n",
       "    <tr>\n",
       "      <th>2000-01-05</th>\n",
       "      <td>0.01</td>\n",
       "      <td>7.5</td>\n",
       "      <td>6.1</td>\n",
       "      <td>0.0</td>\n",
       "      <td>10.6</td>\n",
       "    </tr>\n",
       "    <tr>\n",
       "      <th>...</th>\n",
       "      <td>...</td>\n",
       "      <td>...</td>\n",
       "      <td>...</td>\n",
       "      <td>...</td>\n",
       "      <td>...</td>\n",
       "    </tr>\n",
       "    <tr>\n",
       "      <th>2021-12-26</th>\n",
       "      <td>0.17</td>\n",
       "      <td>0.0</td>\n",
       "      <td>5.0</td>\n",
       "      <td>0.6</td>\n",
       "      <td>8.3</td>\n",
       "    </tr>\n",
       "    <tr>\n",
       "      <th>2021-12-27</th>\n",
       "      <td>0.04</td>\n",
       "      <td>0.0</td>\n",
       "      <td>8.3</td>\n",
       "      <td>2.8</td>\n",
       "      <td>8.3</td>\n",
       "    </tr>\n",
       "    <tr>\n",
       "      <th>2021-12-28</th>\n",
       "      <td>0.31</td>\n",
       "      <td>0.0</td>\n",
       "      <td>8.3</td>\n",
       "      <td>1.7</td>\n",
       "      <td>10.0</td>\n",
       "    </tr>\n",
       "    <tr>\n",
       "      <th>2021-12-29</th>\n",
       "      <td>0.54</td>\n",
       "      <td>0.0</td>\n",
       "      <td>10.0</td>\n",
       "      <td>5.6</td>\n",
       "      <td>12.2</td>\n",
       "    </tr>\n",
       "    <tr>\n",
       "      <th>2021-12-30</th>\n",
       "      <td>0.15</td>\n",
       "      <td>0.0</td>\n",
       "      <td>12.2</td>\n",
       "      <td>9.4</td>\n",
       "      <td>13.3</td>\n",
       "    </tr>\n",
       "  </tbody>\n",
       "</table>\n",
       "<p>8035 rows × 5 columns</p>\n",
       "</div>"
      ],
      "text/plain": [
       "            PRCP  SNWD  TMAX  TMIN  target\n",
       "DATE                                      \n",
       "2000-01-01  0.30  13.4   1.7  -2.8     5.6\n",
       "2000-01-02  0.00  11.4   5.6  -3.3     4.4\n",
       "2000-01-03  0.00   9.4   4.4  -6.1     6.1\n",
       "2000-01-04  0.09   8.3   6.1  -6.7     6.1\n",
       "2000-01-05  0.01   7.5   6.1   0.0    10.6\n",
       "...          ...   ...   ...   ...     ...\n",
       "2021-12-26  0.17   0.0   5.0   0.6     8.3\n",
       "2021-12-27  0.04   0.0   8.3   2.8     8.3\n",
       "2021-12-28  0.31   0.0   8.3   1.7    10.0\n",
       "2021-12-29  0.54   0.0  10.0   5.6    12.2\n",
       "2021-12-30  0.15   0.0  12.2   9.4    13.3\n",
       "\n",
       "[8035 rows x 5 columns]"
      ]
     },
     "execution_count": 7,
     "metadata": {},
     "output_type": "execute_result"
    }
   ],
   "source": [
    "core_weather = core_weather.iloc[:-1,:].copy()\n",
    "core_weather"
   ]
  },
  {
   "cell_type": "code",
   "execution_count": 8,
   "id": "7ba9e666",
   "metadata": {},
   "outputs": [],
   "source": [
    "from sklearn.linear_model import Ridge\n",
    "\n",
    "reg = Ridge(alpha=.1)\n",
    "predictors = [\"PRCP\", \"TMAX\", \"TMIN\"]"
   ]
  },
  {
   "cell_type": "code",
   "execution_count": 9,
   "id": "99cee72f",
   "metadata": {},
   "outputs": [],
   "source": [
    "# Training model will include all data before the end of 2020, while testing will be done for 2021.\n",
    "train = core_weather.loc[:\"2020-12-31\"]\n",
    "test = core_weather.loc[\"2021-01-01\":]"
   ]
  },
  {
   "cell_type": "code",
   "execution_count": 10,
   "id": "5e2d4bcf",
   "metadata": {},
   "outputs": [
    {
     "data": {
      "text/plain": [
       "Ridge(alpha=0.1)"
      ]
     },
     "execution_count": 10,
     "metadata": {},
     "output_type": "execute_result"
    }
   ],
   "source": [
    "reg.fit(train[predictors], train[\"target\"])"
   ]
  },
  {
   "cell_type": "code",
   "execution_count": 26,
   "id": "b8fb5eff",
   "metadata": {},
   "outputs": [],
   "source": [
    "# Building an array of predicted values\n",
    "predictions = reg.predict(test[predictors])"
   ]
  },
  {
   "cell_type": "code",
   "execution_count": 12,
   "id": "7babc8b2",
   "metadata": {},
   "outputs": [
    {
     "data": {
      "text/plain": [
       "2.863305130775958"
      ]
     },
     "execution_count": 12,
     "metadata": {},
     "output_type": "execute_result"
    }
   ],
   "source": [
    "# Calculating mean absolute error\n",
    "from sklearn.metrics import mean_absolute_error\n",
    "mean_absolute_error(test[\"target\"], predictions)"
   ]
  },
  {
   "cell_type": "code",
   "execution_count": 13,
   "id": "9125cc0f",
   "metadata": {},
   "outputs": [],
   "source": [
    "# Building a series with actual and predicted values \n",
    "combined = pd.concat([test[\"target\"], pd.Series(predictions, index = test.index)], axis = 1)\n",
    "combined.columns = [\"actual\", \"predicted\"]\n",
    "combined[\"predicted\"] = combined[\"predicted\"].round(decimals = 1)"
   ]
  },
  {
   "cell_type": "code",
   "execution_count": 14,
   "id": "9160c448",
   "metadata": {},
   "outputs": [
    {
     "data": {
      "text/html": [
       "<div>\n",
       "<style scoped>\n",
       "    .dataframe tbody tr th:only-of-type {\n",
       "        vertical-align: middle;\n",
       "    }\n",
       "\n",
       "    .dataframe tbody tr th {\n",
       "        vertical-align: top;\n",
       "    }\n",
       "\n",
       "    .dataframe thead th {\n",
       "        text-align: right;\n",
       "    }\n",
       "</style>\n",
       "<table border=\"1\" class=\"dataframe\">\n",
       "  <thead>\n",
       "    <tr style=\"text-align: right;\">\n",
       "      <th></th>\n",
       "      <th>actual</th>\n",
       "      <th>predicted</th>\n",
       "    </tr>\n",
       "    <tr>\n",
       "      <th>DATE</th>\n",
       "      <th></th>\n",
       "      <th></th>\n",
       "    </tr>\n",
       "  </thead>\n",
       "  <tbody>\n",
       "    <tr>\n",
       "      <th>2021-01-01</th>\n",
       "      <td>-0.6</td>\n",
       "      <td>4.5</td>\n",
       "    </tr>\n",
       "    <tr>\n",
       "      <th>2021-01-02</th>\n",
       "      <td>-1.1</td>\n",
       "      <td>1.7</td>\n",
       "    </tr>\n",
       "    <tr>\n",
       "      <th>2021-01-03</th>\n",
       "      <td>-1.7</td>\n",
       "      <td>1.5</td>\n",
       "    </tr>\n",
       "    <tr>\n",
       "      <th>2021-01-04</th>\n",
       "      <td>-2.8</td>\n",
       "      <td>1.1</td>\n",
       "    </tr>\n",
       "    <tr>\n",
       "      <th>2021-01-05</th>\n",
       "      <td>-1.7</td>\n",
       "      <td>-0.1</td>\n",
       "    </tr>\n",
       "    <tr>\n",
       "      <th>...</th>\n",
       "      <td>...</td>\n",
       "      <td>...</td>\n",
       "    </tr>\n",
       "    <tr>\n",
       "      <th>2021-12-26</th>\n",
       "      <td>8.3</td>\n",
       "      <td>6.4</td>\n",
       "    </tr>\n",
       "    <tr>\n",
       "      <th>2021-12-27</th>\n",
       "      <td>8.3</td>\n",
       "      <td>9.8</td>\n",
       "    </tr>\n",
       "    <tr>\n",
       "      <th>2021-12-28</th>\n",
       "      <td>10.0</td>\n",
       "      <td>8.6</td>\n",
       "    </tr>\n",
       "    <tr>\n",
       "      <th>2021-12-29</th>\n",
       "      <td>12.2</td>\n",
       "      <td>10.1</td>\n",
       "    </tr>\n",
       "    <tr>\n",
       "      <th>2021-12-30</th>\n",
       "      <td>13.3</td>\n",
       "      <td>14.0</td>\n",
       "    </tr>\n",
       "  </tbody>\n",
       "</table>\n",
       "<p>364 rows × 2 columns</p>\n",
       "</div>"
      ],
      "text/plain": [
       "            actual  predicted\n",
       "DATE                         \n",
       "2021-01-01    -0.6        4.5\n",
       "2021-01-02    -1.1        1.7\n",
       "2021-01-03    -1.7        1.5\n",
       "2021-01-04    -2.8        1.1\n",
       "2021-01-05    -1.7       -0.1\n",
       "...            ...        ...\n",
       "2021-12-26     8.3        6.4\n",
       "2021-12-27     8.3        9.8\n",
       "2021-12-28    10.0        8.6\n",
       "2021-12-29    12.2       10.1\n",
       "2021-12-30    13.3       14.0\n",
       "\n",
       "[364 rows x 2 columns]"
      ]
     },
     "execution_count": 14,
     "metadata": {},
     "output_type": "execute_result"
    }
   ],
   "source": [
    "combined"
   ]
  },
  {
   "cell_type": "code",
   "execution_count": 15,
   "id": "2097b23c",
   "metadata": {},
   "outputs": [
    {
     "data": {
      "text/plain": [
       "<AxesSubplot:xlabel='DATE'>"
      ]
     },
     "execution_count": 15,
     "metadata": {},
     "output_type": "execute_result"
    },
    {
     "data": {
      "image/png": "[encoded data removed]",
      "text/plain": [
       "<Figure size 432x288 with 1 Axes>"
      ]
     },
     "metadata": {
      "needs_background": "light"
     },
     "output_type": "display_data"
    }
   ],
   "source": [
    "# Bulding a plot with actual and predicted values\n",
    "combined.plot()"
   ]
  },
  {
   "cell_type": "code",
   "execution_count": 16,
   "id": "b7879ee3",
   "metadata": {},
   "outputs": [
    {
     "data": {
      "text/plain": [
       "array([-3.45036103,  0.72545785,  0.26499794])"
      ]
     },
     "execution_count": 16,
     "metadata": {},
     "output_type": "execute_result"
    }
   ],
   "source": [
    "reg.coef_"
   ]
  },
  {
   "cell_type": "code",
   "execution_count": 24,
   "id": "47e28560",
   "metadata": {},
   "outputs": [
    {
     "data": {
      "text/html": [
       "<div>\n",
       "<style scoped>\n",
       "    .dataframe tbody tr th:only-of-type {\n",
       "        vertical-align: middle;\n",
       "    }\n",
       "\n",
       "    .dataframe tbody tr th {\n",
       "        vertical-align: top;\n",
       "    }\n",
       "\n",
       "    .dataframe thead th {\n",
       "        text-align: right;\n",
       "    }\n",
       "</style>\n",
       "<table border=\"1\" class=\"dataframe\">\n",
       "  <thead>\n",
       "    <tr style=\"text-align: right;\">\n",
       "      <th></th>\n",
       "      <th>PRCP</th>\n",
       "      <th>SNWD</th>\n",
       "      <th>TMAX</th>\n",
       "      <th>TMIN</th>\n",
       "      <th>target</th>\n",
       "      <th>monthly_avg</th>\n",
       "    </tr>\n",
       "    <tr>\n",
       "      <th>DATE</th>\n",
       "      <th></th>\n",
       "      <th></th>\n",
       "      <th></th>\n",
       "      <th></th>\n",
       "      <th></th>\n",
       "      <th></th>\n",
       "    </tr>\n",
       "  </thead>\n",
       "  <tbody>\n",
       "    <tr>\n",
       "      <th>2000-01-01</th>\n",
       "      <td>0.30</td>\n",
       "      <td>13.4</td>\n",
       "      <td>1.7</td>\n",
       "      <td>-2.8</td>\n",
       "      <td>5.6</td>\n",
       "      <td>1.700000</td>\n",
       "    </tr>\n",
       "    <tr>\n",
       "      <th>2000-01-02</th>\n",
       "      <td>0.00</td>\n",
       "      <td>11.4</td>\n",
       "      <td>5.6</td>\n",
       "      <td>-3.3</td>\n",
       "      <td>4.4</td>\n",
       "      <td>3.650000</td>\n",
       "    </tr>\n",
       "    <tr>\n",
       "      <th>2000-01-03</th>\n",
       "      <td>0.00</td>\n",
       "      <td>9.4</td>\n",
       "      <td>4.4</td>\n",
       "      <td>-6.1</td>\n",
       "      <td>6.1</td>\n",
       "      <td>3.900000</td>\n",
       "    </tr>\n",
       "    <tr>\n",
       "      <th>2000-01-04</th>\n",
       "      <td>0.09</td>\n",
       "      <td>8.3</td>\n",
       "      <td>6.1</td>\n",
       "      <td>-6.7</td>\n",
       "      <td>6.1</td>\n",
       "      <td>4.450000</td>\n",
       "    </tr>\n",
       "    <tr>\n",
       "      <th>2000-01-05</th>\n",
       "      <td>0.01</td>\n",
       "      <td>7.5</td>\n",
       "      <td>6.1</td>\n",
       "      <td>0.0</td>\n",
       "      <td>10.6</td>\n",
       "      <td>4.780000</td>\n",
       "    </tr>\n",
       "    <tr>\n",
       "      <th>...</th>\n",
       "      <td>...</td>\n",
       "      <td>...</td>\n",
       "      <td>...</td>\n",
       "      <td>...</td>\n",
       "      <td>...</td>\n",
       "      <td>...</td>\n",
       "    </tr>\n",
       "    <tr>\n",
       "      <th>2021-12-26</th>\n",
       "      <td>0.17</td>\n",
       "      <td>0.0</td>\n",
       "      <td>5.0</td>\n",
       "      <td>0.6</td>\n",
       "      <td>8.3</td>\n",
       "      <td>4.287445</td>\n",
       "    </tr>\n",
       "    <tr>\n",
       "      <th>2021-12-27</th>\n",
       "      <td>0.04</td>\n",
       "      <td>0.0</td>\n",
       "      <td>8.3</td>\n",
       "      <td>2.8</td>\n",
       "      <td>8.3</td>\n",
       "      <td>4.293363</td>\n",
       "    </tr>\n",
       "    <tr>\n",
       "      <th>2021-12-28</th>\n",
       "      <td>0.31</td>\n",
       "      <td>0.0</td>\n",
       "      <td>8.3</td>\n",
       "      <td>1.7</td>\n",
       "      <td>10.0</td>\n",
       "      <td>4.299264</td>\n",
       "    </tr>\n",
       "    <tr>\n",
       "      <th>2021-12-29</th>\n",
       "      <td>0.54</td>\n",
       "      <td>0.0</td>\n",
       "      <td>10.0</td>\n",
       "      <td>5.6</td>\n",
       "      <td>12.2</td>\n",
       "      <td>4.307647</td>\n",
       "    </tr>\n",
       "    <tr>\n",
       "      <th>2021-12-30</th>\n",
       "      <td>0.15</td>\n",
       "      <td>0.0</td>\n",
       "      <td>12.2</td>\n",
       "      <td>9.4</td>\n",
       "      <td>13.3</td>\n",
       "      <td>4.319236</td>\n",
       "    </tr>\n",
       "  </tbody>\n",
       "</table>\n",
       "<p>8035 rows × 6 columns</p>\n",
       "</div>"
      ],
      "text/plain": [
       "            PRCP  SNWD  TMAX  TMIN  target  monthly_avg\n",
       "DATE                                                   \n",
       "2000-01-01  0.30  13.4   1.7  -2.8     5.6     1.700000\n",
       "2000-01-02  0.00  11.4   5.6  -3.3     4.4     3.650000\n",
       "2000-01-03  0.00   9.4   4.4  -6.1     6.1     3.900000\n",
       "2000-01-04  0.09   8.3   6.1  -6.7     6.1     4.450000\n",
       "2000-01-05  0.01   7.5   6.1   0.0    10.6     4.780000\n",
       "...          ...   ...   ...   ...     ...          ...\n",
       "2021-12-26  0.17   0.0   5.0   0.6     8.3     4.287445\n",
       "2021-12-27  0.04   0.0   8.3   2.8     8.3     4.293363\n",
       "2021-12-28  0.31   0.0   8.3   1.7    10.0     4.299264\n",
       "2021-12-29  0.54   0.0  10.0   5.6    12.2     4.307647\n",
       "2021-12-30  0.15   0.0  12.2   9.4    13.3     4.319236\n",
       "\n",
       "[8035 rows x 6 columns]"
      ]
     },
     "execution_count": 24,
     "metadata": {},
     "output_type": "execute_result"
    }
   ],
   "source": [
    "# Adding monthly average; only previous data is used to calculate averages to that day\n",
    "core_weather[\"monthly_avg\"] = core_weather[\"TMAX\"].groupby(core_weather.index.month).apply(lambda x: x.expanding(1).mean())\n",
    "core_weather"
   ]
  },
  {
   "cell_type": "code",
   "execution_count": 20,
   "id": "e16147f7",
   "metadata": {},
   "outputs": [
    {
     "data": {
      "text/plain": [
       "PRCP          -0.070282\n",
       "SNWD          -0.412484\n",
       "TMAX           0.903702\n",
       "TMIN           0.819756\n",
       "target         1.000000\n",
       "monthly_avg    0.807164\n",
       "Name: target, dtype: float64"
      ]
     },
     "execution_count": 20,
     "metadata": {},
     "output_type": "execute_result"
    }
   ],
   "source": [
    "# Seeing correlations\n",
    "core_weather.corr()[\"target\"]"
   ]
  },
  {
   "cell_type": "code",
   "execution_count": 30,
   "id": "113d2ed3",
   "metadata": {},
   "outputs": [
    {
     "data": {
      "text/html": [
       "<div>\n",
       "<style scoped>\n",
       "    .dataframe tbody tr th:only-of-type {\n",
       "        vertical-align: middle;\n",
       "    }\n",
       "\n",
       "    .dataframe tbody tr th {\n",
       "        vertical-align: top;\n",
       "    }\n",
       "\n",
       "    .dataframe thead th {\n",
       "        text-align: right;\n",
       "    }\n",
       "</style>\n",
       "<table border=\"1\" class=\"dataframe\">\n",
       "  <thead>\n",
       "    <tr style=\"text-align: right;\">\n",
       "      <th></th>\n",
       "      <th>actual</th>\n",
       "      <th>predicted</th>\n",
       "      <th>diff</th>\n",
       "    </tr>\n",
       "    <tr>\n",
       "      <th>DATE</th>\n",
       "      <th></th>\n",
       "      <th></th>\n",
       "      <th></th>\n",
       "    </tr>\n",
       "  </thead>\n",
       "  <tbody>\n",
       "    <tr>\n",
       "      <th>2021-11-11</th>\n",
       "      <td>3.3</td>\n",
       "      <td>14.4</td>\n",
       "      <td>11.1</td>\n",
       "    </tr>\n",
       "    <tr>\n",
       "      <th>2021-10-03</th>\n",
       "      <td>14.4</td>\n",
       "      <td>24.9</td>\n",
       "      <td>10.5</td>\n",
       "    </tr>\n",
       "    <tr>\n",
       "      <th>2021-04-05</th>\n",
       "      <td>1.1</td>\n",
       "      <td>11.2</td>\n",
       "      <td>10.1</td>\n",
       "    </tr>\n",
       "    <tr>\n",
       "      <th>2021-05-08</th>\n",
       "      <td>26.1</td>\n",
       "      <td>16.3</td>\n",
       "      <td>9.8</td>\n",
       "    </tr>\n",
       "    <tr>\n",
       "      <th>2021-02-26</th>\n",
       "      <td>5.6</td>\n",
       "      <td>15.4</td>\n",
       "      <td>9.8</td>\n",
       "    </tr>\n",
       "  </tbody>\n",
       "</table>\n",
       "</div>"
      ],
      "text/plain": [
       "            actual  predicted  diff\n",
       "DATE                               \n",
       "2021-11-11     3.3       14.4  11.1\n",
       "2021-10-03    14.4       24.9  10.5\n",
       "2021-04-05     1.1       11.2  10.1\n",
       "2021-05-08    26.1       16.3   9.8\n",
       "2021-02-26     5.6       15.4   9.8"
      ]
     },
     "execution_count": 30,
     "metadata": {},
     "output_type": "execute_result"
    }
   ],
   "source": [
    "# Looking at days with maximum deviation of predictions from actual values\n",
    "combined[\"diff\"] = (combined[\"actual\"] - combined[\"predicted\"]).abs()\n",
    "combined.sort_values(\"diff\", ascending = False).head()"
   ]
  },
  {
   "cell_type": "code",
   "execution_count": 37,
   "id": "1d1f5d00",
   "metadata": {},
   "outputs": [
    {
     "data": {
      "text/plain": [
       "8"
      ]
     },
     "execution_count": 37,
     "metadata": {},
     "output_type": "execute_result"
    }
   ],
   "source": [
    "# Counting days when predictions were true\n",
    "combined.loc[combined[\"diff\"] == 0].count()[0]"
   ]
  },
  {
   "cell_type": "code",
   "execution_count": 40,
   "id": "e9f86296",
   "metadata": {},
   "outputs": [
    {
     "data": {
      "text/plain": [
       "<AxesSubplot:xlabel='DATE'>"
      ]
     },
     "execution_count": 40,
     "metadata": {},
     "output_type": "execute_result"
    },
    {
     "data": {
      "image/png": "[encoded data removed]",
      "text/plain": [
       "<Figure size 432x288 with 1 Axes>"
      ]
     },
     "metadata": {
      "needs_background": "light"
     },
     "output_type": "display_data"
    }
   ],
   "source": [
    "# A graph showing prediction deviations\n",
    "combined.sort_values(\"diff\", ascending = False)[\"diff\"].plot()"
   ]
  },
  {
   "cell_type": "code",
   "execution_count": 41,
   "id": "3265bdbf",
   "metadata": {},
   "outputs": [
    {
     "data": {
      "text/plain": [
       "2.8640109890109895"
      ]
     },
     "execution_count": 41,
     "metadata": {},
     "output_type": "execute_result"
    }
   ],
   "source": [
    "# Temperture prediction error\n",
    "combined[\"diff\"].mean()"
   ]
  },
  {
   "cell_type": "code",
   "execution_count": null,
   "id": "bc9cf31c",
   "metadata": {},
   "outputs": [],
   "source": []
  }
 ],
 "metadata": {
  "kernelspec": {
   "display_name": "Python 3 (ipykernel)",
   "language": "python",
   "name": "python3"
  },
  "language_info": {
   "codemirror_mode": {
    "name": "ipython",
    "version": 3
   },
   "file_extension": ".py",
   "mimetype": "text/x-python",
   "name": "python",
   "nbconvert_exporter": "python",
   "pygments_lexer": "ipython3",
   "version": "3.9.12"
  }
 },
 "nbformat": 4,
 "nbformat_minor": 5
}
